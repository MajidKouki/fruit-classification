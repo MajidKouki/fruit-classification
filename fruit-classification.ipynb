{
 "cells": [
  {
   "attachments": {},
   "cell_type": "markdown",
   "metadata": {},
   "source": [
    "# Fruit Classification\n",
    "### Transfer learning of VGG16 model to classify fresh and rotten fruits from Kaggle dataset"
   ]
  },
  {
   "attachments": {},
   "cell_type": "markdown",
   "metadata": {},
   "source": [
    "### Load and prepare model for data"
   ]
  },
  {
   "cell_type": "code",
   "execution_count": 1,
   "metadata": {},
   "outputs": [],
   "source": [
    "# Initial import of Keras for use throughout project\n",
    "from tensorflow import keras"
   ]
  },
  {
   "cell_type": "code",
   "execution_count": 2,
   "metadata": {},
   "outputs": [
    {
     "name": "stderr",
     "output_type": "stream",
     "text": [
      "2023-03-26 15:49:19.506910: I tensorflow/core/common_runtime/pluggable_device/pluggable_device_factory.cc:305] Could not identify NUMA node of platform GPU ID 0, defaulting to 0. Your kernel may not have been built with NUMA support.\n",
      "2023-03-26 15:49:19.507029: I tensorflow/core/common_runtime/pluggable_device/pluggable_device_factory.cc:271] Created TensorFlow device (/job:localhost/replica:0/task:0/device:GPU:0 with 0 MB memory) -> physical PluggableDevice (device: 0, name: METAL, pci bus id: <undefined>)\n"
     ]
    },
    {
     "name": "stdout",
     "output_type": "stream",
     "text": [
      "Metal device set to: Apple M1 Max\n",
      "\n",
      "systemMemory: 32.00 GB\n",
      "maxCacheSize: 10.67 GB\n",
      "\n"
     ]
    }
   ],
   "source": [
    "# Load base model (VGG16)\n",
    "base = keras.applications.VGG16(\n",
    "    weights = \"imagenet\", # Use imagenet weights to match\n",
    "    input_shape = (224, 224, 3), # Specify input shape to match dataset (224 x 224 pixels, 3 color channels)\n",
    "    include_top = False # Remove output layer\n",
    ")"
   ]
  },
  {
   "cell_type": "code",
   "execution_count": 3,
   "metadata": {},
   "outputs": [
    {
     "name": "stdout",
     "output_type": "stream",
     "text": [
      "Model: \"vgg16\"\n",
      "_________________________________________________________________\n",
      " Layer (type)                Output Shape              Param #   \n",
      "=================================================================\n",
      " input_1 (InputLayer)        [(None, 224, 224, 3)]     0         \n",
      "                                                                 \n",
      " block1_conv1 (Conv2D)       (None, 224, 224, 64)      1792      \n",
      "                                                                 \n",
      " block1_conv2 (Conv2D)       (None, 224, 224, 64)      36928     \n",
      "                                                                 \n",
      " block1_pool (MaxPooling2D)  (None, 112, 112, 64)      0         \n",
      "                                                                 \n",
      " block2_conv1 (Conv2D)       (None, 112, 112, 128)     73856     \n",
      "                                                                 \n",
      " block2_conv2 (Conv2D)       (None, 112, 112, 128)     147584    \n",
      "                                                                 \n",
      " block2_pool (MaxPooling2D)  (None, 56, 56, 128)       0         \n",
      "                                                                 \n",
      " block3_conv1 (Conv2D)       (None, 56, 56, 256)       295168    \n",
      "                                                                 \n",
      " block3_conv2 (Conv2D)       (None, 56, 56, 256)       590080    \n",
      "                                                                 \n",
      " block3_conv3 (Conv2D)       (None, 56, 56, 256)       590080    \n",
      "                                                                 \n",
      " block3_pool (MaxPooling2D)  (None, 28, 28, 256)       0         \n",
      "                                                                 \n",
      " block4_conv1 (Conv2D)       (None, 28, 28, 512)       1180160   \n",
      "                                                                 \n",
      " block4_conv2 (Conv2D)       (None, 28, 28, 512)       2359808   \n",
      "                                                                 \n",
      " block4_conv3 (Conv2D)       (None, 28, 28, 512)       2359808   \n",
      "                                                                 \n",
      " block4_pool (MaxPooling2D)  (None, 14, 14, 512)       0         \n",
      "                                                                 \n",
      " block5_conv1 (Conv2D)       (None, 14, 14, 512)       2359808   \n",
      "                                                                 \n",
      " block5_conv2 (Conv2D)       (None, 14, 14, 512)       2359808   \n",
      "                                                                 \n",
      " block5_conv3 (Conv2D)       (None, 14, 14, 512)       2359808   \n",
      "                                                                 \n",
      " block5_pool (MaxPooling2D)  (None, 7, 7, 512)         0         \n",
      "                                                                 \n",
      "=================================================================\n",
      "Total params: 14,714,688\n",
      "Trainable params: 14,714,688\n",
      "Non-trainable params: 0\n",
      "_________________________________________________________________\n"
     ]
    }
   ],
   "source": [
    "# Verify removal of output layer\n",
    "base.summary()"
   ]
  },
  {
   "cell_type": "code",
   "execution_count": 4,
   "metadata": {},
   "outputs": [],
   "source": [
    "# Freeze base layers to retain learning\n",
    "base.trainable = False"
   ]
  },
  {
   "cell_type": "code",
   "execution_count": 5,
   "metadata": {},
   "outputs": [],
   "source": [
    "# Specify inputs with correct shape\n",
    "inputs = keras.Input(shape = (224, 224, 3))\n",
    "x = base(inputs, training = False)\n",
    "\n",
    "# Add pooling layer\n",
    "x = keras.layers.GlobalAveragePooling2D()(x)\n",
    "\n",
    "# Add dense output layer\n",
    "outputs = keras.layers.Dense(6, activation = \"softmax\")(x)\n",
    "\n",
    "# Combine to create new model\n",
    "model = keras.Model(inputs, outputs)"
   ]
  },
  {
   "cell_type": "code",
   "execution_count": 6,
   "metadata": {},
   "outputs": [
    {
     "name": "stdout",
     "output_type": "stream",
     "text": [
      "Model: \"model\"\n",
      "_________________________________________________________________\n",
      " Layer (type)                Output Shape              Param #   \n",
      "=================================================================\n",
      " input_2 (InputLayer)        [(None, 224, 224, 3)]     0         \n",
      "                                                                 \n",
      " vgg16 (Functional)          (None, 7, 7, 512)         14714688  \n",
      "                                                                 \n",
      " global_average_pooling2d (G  (None, 512)              0         \n",
      " lobalAveragePooling2D)                                          \n",
      "                                                                 \n",
      " dense (Dense)               (None, 6)                 3078      \n",
      "                                                                 \n",
      "=================================================================\n",
      "Total params: 14,717,766\n",
      "Trainable params: 3,078\n",
      "Non-trainable params: 14,714,688\n",
      "_________________________________________________________________\n"
     ]
    }
   ],
   "source": [
    "# Verify model layers\n",
    "model.summary()"
   ]
  },
  {
   "cell_type": "code",
   "execution_count": 7,
   "metadata": {},
   "outputs": [],
   "source": [
    "# Compile the model\n",
    "model.compile(\n",
    "    loss = \"categorical_crossentropy\",\n",
    "    metrics = [\"accuracy\"]\n",
    ")"
   ]
  },
  {
   "attachments": {},
   "cell_type": "markdown",
   "metadata": {},
   "source": [
    "### Data Preparation"
   ]
  },
  {
   "cell_type": "code",
   "execution_count": 8,
   "metadata": {},
   "outputs": [],
   "source": [
    "# Augment data to increase model accuracy when trained\n",
    "from keras.preprocessing.image import ImageDataGenerator\n",
    "\n",
    "# Create data generator for training dataset\n",
    "datagen_train = ImageDataGenerator(\n",
    "    samplewise_center = True, # Set sample mean to 0\n",
    "    rotation_range = 10, # Randomly rotate images 10 degrees\n",
    "    zoom_range = 0.1, # Randomly zoom image\n",
    "    width_shift_range = 0.1, # Randomly shift image horizontally\n",
    "    height_shift_range = 0.1, # Randomly shift image vertically\n",
    "    horizontal_flip = True, # Allow horizontal flipping\n",
    "    vertical_flip = False # Don't allow vertical flipping\n",
    ")\n",
    "\n",
    "# No augmenting needed for testing data\n",
    "datagen_test = ImageDataGenerator(\n",
    "    samplewise_center = True # Set sample mean to 0\n",
    ")"
   ]
  },
  {
   "cell_type": "code",
   "execution_count": 9,
   "metadata": {},
   "outputs": [
    {
     "name": "stdout",
     "output_type": "stream",
     "text": [
      "Found 10901 images belonging to 6 classes.\n",
      "Found 2698 images belonging to 6 classes.\n"
     ]
    }
   ],
   "source": [
    "# Load training dataset\n",
    "data_train = datagen_train.flow_from_directory(\n",
    "    \"dataset/train/\", # Dataset path\n",
    "    target_size = (224, 224), # Image size (224 x 224 pixels)\n",
    "    color_mode = \"rgb\", # Color mode (rgb == 3 channel)\n",
    "    class_mode = \"categorical\"\n",
    ")\n",
    "\n",
    "# Load testing dataset\n",
    "data_test = datagen_test.flow_from_directory(\n",
    "    \"dataset/test/\", # Dataset path\n",
    "    target_size = (224, 224), # Image size (224 x 224 pixels)\n",
    "    color_mode = \"rgb\", # Color mode (rgb == 3 channel)\n",
    "    class_mode = \"categorical\"\n",
    ")"
   ]
  },
  {
   "attachments": {},
   "cell_type": "markdown",
   "metadata": {},
   "source": [
    "### Model Training & Fine Tuning"
   ]
  },
  {
   "cell_type": "code",
   "execution_count": 10,
   "metadata": {},
   "outputs": [
    {
     "name": "stdout",
     "output_type": "stream",
     "text": [
      "Epoch 1/10\n"
     ]
    },
    {
     "name": "stderr",
     "output_type": "stream",
     "text": [
      "2023-03-26 15:49:48.892425: W tensorflow/core/platform/profile_utils/cpu_utils.cc:128] Failed to get CPU frequency: 0 Hz\n",
      "2023-03-26 15:49:49.249139: I tensorflow/core/grappler/optimizers/custom_graph_optimizer_registry.cc:113] Plugin optimizer for device_type GPU is enabled.\n"
     ]
    },
    {
     "name": "stdout",
     "output_type": "stream",
     "text": [
      "341/340 [==============================] - ETA: 0s - loss: 0.6918 - accuracy: 0.8123"
     ]
    },
    {
     "name": "stderr",
     "output_type": "stream",
     "text": [
      "2023-03-26 15:51:26.625913: I tensorflow/core/grappler/optimizers/custom_graph_optimizer_registry.cc:113] Plugin optimizer for device_type GPU is enabled.\n"
     ]
    },
    {
     "name": "stdout",
     "output_type": "stream",
     "text": [
      "340/340 [==============================] - 110s 320ms/step - loss: 0.6918 - accuracy: 0.8123 - val_loss: 0.1870 - val_accuracy: 0.9396\n",
      "Epoch 2/10\n",
      "340/340 [==============================] - 108s 318ms/step - loss: 0.1395 - accuracy: 0.9517 - val_loss: 0.0965 - val_accuracy: 0.9681\n",
      "Epoch 3/10\n",
      "340/340 [==============================] - 108s 317ms/step - loss: 0.0843 - accuracy: 0.9725 - val_loss: 0.0907 - val_accuracy: 0.9707\n",
      "Epoch 4/10\n",
      "340/340 [==============================] - 108s 318ms/step - loss: 0.0653 - accuracy: 0.9765 - val_loss: 0.0944 - val_accuracy: 0.9707\n",
      "Epoch 5/10\n",
      "340/340 [==============================] - 108s 318ms/step - loss: 0.0537 - accuracy: 0.9816 - val_loss: 0.0577 - val_accuracy: 0.9800\n",
      "Epoch 6/10\n",
      "340/340 [==============================] - 109s 319ms/step - loss: 0.0447 - accuracy: 0.9840 - val_loss: 0.0502 - val_accuracy: 0.9830\n",
      "Epoch 7/10\n",
      "340/340 [==============================] - 109s 319ms/step - loss: 0.0434 - accuracy: 0.9856 - val_loss: 0.0448 - val_accuracy: 0.9859\n",
      "Epoch 8/10\n",
      "340/340 [==============================] - 109s 320ms/step - loss: 0.0398 - accuracy: 0.9865 - val_loss: 0.0426 - val_accuracy: 0.9848\n",
      "Epoch 9/10\n",
      "340/340 [==============================] - 109s 319ms/step - loss: 0.0329 - accuracy: 0.9880 - val_loss: 0.0743 - val_accuracy: 0.9766\n",
      "Epoch 10/10\n",
      "340/340 [==============================] - 109s 319ms/step - loss: 0.0290 - accuracy: 0.9900 - val_loss: 0.0536 - val_accuracy: 0.9830\n"
     ]
    },
    {
     "data": {
      "text/plain": [
       "<keras.callbacks.History at 0x172a5aa00>"
      ]
     },
     "execution_count": 10,
     "metadata": {},
     "output_type": "execute_result"
    }
   ],
   "source": [
    "# Train & evaluate the model with training and testing datasets\n",
    "model.fit(\n",
    "    data_train, # Training data\n",
    "    validation_data = data_test, # Testing data for validation\n",
    "    steps_per_epoch = data_train.samples / data_train.batch_size, # Set steps per epoch\n",
    "    validation_steps = data_test.samples / data_test.batch_size, # Set steps for validation\n",
    "    epochs = 10 # Desired number of epochs for training\n",
    ")"
   ]
  },
  {
   "cell_type": "code",
   "execution_count": 11,
   "metadata": {},
   "outputs": [],
   "source": [
    "# Unfreeze base to fine tune model\n",
    "base.trainable = True\n",
    "\n",
    "# Recompile model with low learning rate and unfrozen layers\n",
    "model.compile(\n",
    "    optimizer = keras.optimizers.RMSprop(learning_rate = .00001), # Very low learning rate\n",
    "    loss = \"categorical_crossentropy\", # Same as prior compile\n",
    "    metrics = [\"accuracy\"] # Same as prior compile\n",
    ")"
   ]
  },
  {
   "cell_type": "code",
   "execution_count": 12,
   "metadata": {},
   "outputs": [
    {
     "name": "stdout",
     "output_type": "stream",
     "text": [
      "Epoch 1/10\n"
     ]
    },
    {
     "name": "stderr",
     "output_type": "stream",
     "text": [
      "2023-03-26 16:11:24.382605: I tensorflow/core/grappler/optimizers/custom_graph_optimizer_registry.cc:113] Plugin optimizer for device_type GPU is enabled.\n"
     ]
    },
    {
     "name": "stdout",
     "output_type": "stream",
     "text": [
      "341/340 [==============================] - ETA: 0s - loss: 0.0473 - accuracy: 0.9851"
     ]
    },
    {
     "name": "stderr",
     "output_type": "stream",
     "text": [
      "2023-03-26 16:13:52.350684: I tensorflow/core/grappler/optimizers/custom_graph_optimizer_registry.cc:113] Plugin optimizer for device_type GPU is enabled.\n"
     ]
    },
    {
     "name": "stdout",
     "output_type": "stream",
     "text": [
      "340/340 [==============================] - 161s 464ms/step - loss: 0.0473 - accuracy: 0.9851 - val_loss: 0.0294 - val_accuracy: 0.9907\n",
      "Epoch 2/10\n",
      "340/340 [==============================] - 157s 460ms/step - loss: 0.0153 - accuracy: 0.9958 - val_loss: 0.0140 - val_accuracy: 0.9967\n",
      "Epoch 3/10\n",
      "340/340 [==============================] - 157s 462ms/step - loss: 0.0116 - accuracy: 0.9968 - val_loss: 0.0146 - val_accuracy: 0.9959\n",
      "Epoch 4/10\n",
      "340/340 [==============================] - 157s 461ms/step - loss: 0.0093 - accuracy: 0.9980 - val_loss: 0.0129 - val_accuracy: 0.9956\n",
      "Epoch 5/10\n",
      "340/340 [==============================] - 157s 461ms/step - loss: 0.0056 - accuracy: 0.9986 - val_loss: 0.0169 - val_accuracy: 0.9974\n",
      "Epoch 6/10\n",
      "340/340 [==============================] - 158s 464ms/step - loss: 0.0056 - accuracy: 0.9987 - val_loss: 0.0121 - val_accuracy: 0.9974\n",
      "Epoch 7/10\n",
      "340/340 [==============================] - 157s 461ms/step - loss: 0.0056 - accuracy: 0.9990 - val_loss: 0.0131 - val_accuracy: 0.9963\n",
      "Epoch 8/10\n",
      "340/340 [==============================] - 158s 463ms/step - loss: 0.0037 - accuracy: 0.9991 - val_loss: 0.0174 - val_accuracy: 0.9970\n",
      "Epoch 9/10\n",
      "340/340 [==============================] - 158s 462ms/step - loss: 0.0051 - accuracy: 0.9991 - val_loss: 0.0047 - val_accuracy: 0.9989\n",
      "Epoch 10/10\n",
      "340/340 [==============================] - 158s 462ms/step - loss: 0.0040 - accuracy: 0.9993 - val_loss: 0.0038 - val_accuracy: 0.9993\n"
     ]
    },
    {
     "data": {
      "text/plain": [
       "<keras.callbacks.History at 0x394bd8e50>"
      ]
     },
     "execution_count": 12,
     "metadata": {},
     "output_type": "execute_result"
    }
   ],
   "source": [
    "# Train & evaluate the model with training and testing datasets\n",
    "model.fit(\n",
    "    data_train, # Training data\n",
    "    validation_data = data_test, # Testing data for validation\n",
    "    steps_per_epoch = data_train.samples / data_train.batch_size, # Set steps per epoch\n",
    "    validation_steps = data_test.samples / data_test.batch_size, # Set steps for validation\n",
    "    epochs = 10 # Desired number of epochs for training\n",
    ")"
   ]
  },
  {
   "cell_type": "code",
   "execution_count": 13,
   "metadata": {},
   "outputs": [
    {
     "name": "stderr",
     "output_type": "stream",
     "text": [
      "WARNING:absl:Found untraced functions such as _jit_compiled_convolution_op, _jit_compiled_convolution_op, _jit_compiled_convolution_op, _jit_compiled_convolution_op, _jit_compiled_convolution_op while saving (showing 5 of 13). These functions will not be directly callable after loading.\n"
     ]
    },
    {
     "name": "stdout",
     "output_type": "stream",
     "text": [
      "INFO:tensorflow:Assets written to: fruit_cnn/assets\n"
     ]
    },
    {
     "name": "stderr",
     "output_type": "stream",
     "text": [
      "INFO:tensorflow:Assets written to: fruit_cnn/assets\n"
     ]
    }
   ],
   "source": [
    "# Save trained model\n",
    "model.save(\"fruit_cnn\")"
   ]
  },
  {
   "attachments": {},
   "cell_type": "markdown",
   "metadata": {},
   "source": [
    "### Evaluation"
   ]
  },
  {
   "cell_type": "code",
   "execution_count": null,
   "metadata": {},
   "outputs": [],
   "source": []
  },
  {
   "cell_type": "code",
   "execution_count": null,
   "metadata": {},
   "outputs": [],
   "source": []
  }
 ],
 "metadata": {
  "kernelspec": {
   "display_name": "dev",
   "language": "python",
   "name": "python3"
  },
  "language_info": {
   "codemirror_mode": {
    "name": "ipython",
    "version": 3
   },
   "file_extension": ".py",
   "mimetype": "text/x-python",
   "name": "python",
   "nbconvert_exporter": "python",
   "pygments_lexer": "ipython3",
   "version": "3.8.16"
  },
  "orig_nbformat": 4
 },
 "nbformat": 4,
 "nbformat_minor": 2
}
